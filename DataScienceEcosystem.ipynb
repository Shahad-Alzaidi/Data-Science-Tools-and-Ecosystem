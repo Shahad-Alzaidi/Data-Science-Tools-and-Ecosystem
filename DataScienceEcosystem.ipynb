{
 "cells": [
  {
   "cell_type": "markdown",
   "id": "50f769f1-1bdf-46aa-91ed-40c52b3ce0bf",
   "metadata": {},
   "source": [
    "# Data Science Tools and Ecosystem "
   ]
  },
  {
   "cell_type": "markdown",
   "id": "08588d41-056b-4c92-a73b-ab37f402dad6",
   "metadata": {},
   "source": [
    "## In this notebook, Data Science Tools and Ecosystem are summarized.\n"
   ]
  },
  {
   "cell_type": "markdown",
   "id": "6de9e6a1-4cd0-4b1d-8203-b751b8f42c20",
   "metadata": {},
   "source": [
    "## **Objectives:**\n",
    "* popular languages for Data Science\n",
    "* popular library for Data Science\n",
    "* popular Tools for Data Science"
   ]
  },
  {
   "cell_type": "markdown",
   "id": "a783b9a3-08c5-42a0-86f0-82bd360de564",
   "metadata": {},
   "source": [
    "### Some of the popular languages that Data Scientists use are:\n",
    "1. Python\n",
    "2. R\n",
    "3. SQL\n"
   ]
  },
  {
   "cell_type": "markdown",
   "id": "621330c2-5bf1-469c-98a8-7a3ff19e277d",
   "metadata": {},
   "source": [
    "### Some of the commonly used libraries used by Data Scientists include:\n",
    "1. Pandas\n",
    "2. NumPy\n",
    "3. Matplotlib"
   ]
  },
  {
   "cell_type": "markdown",
   "id": "cc30b44a-13aa-4d4b-9557-17825ecfebb6",
   "metadata": {},
   "source": [
    "|Data Science Tools|\n",
    "|------|\n",
    "|MySQL|\n",
    "|Apache AirFlow|\n",
    "|Pixie Dust|"
   ]
  },
  {
   "cell_type": "markdown",
   "id": "52298c39-a4c7-4991-8541-12ac0801a827",
   "metadata": {},
   "source": [
    "### Below are a few examples of evaluating arithmetic expressions in Python:"
   ]
  },
  {
   "cell_type": "code",
   "execution_count": 3,
   "id": "c965b61e-bc21-4edf-88b2-05fed85dcb01",
   "metadata": {},
   "outputs": [
    {
     "data": {
      "text/plain": [
       "17"
      ]
     },
     "execution_count": 3,
     "metadata": {},
     "output_type": "execute_result"
    }
   ],
   "source": [
    "# This a simple arithmetic expression to multiply then add integers\n",
    "(3*4)+5"
   ]
  },
  {
   "cell_type": "code",
   "execution_count": 4,
   "id": "0ccc5abb-bdb2-45df-82af-1ad86c7749e2",
   "metadata": {},
   "outputs": [
    {
     "name": "stdout",
     "output_type": "stream",
     "text": [
      "Hours= 3.3333333333333335\n"
     ]
    }
   ],
   "source": [
    "# This will convert 200 minutes to hours by diving by 60\n",
    "min=200 \n",
    "h=min/60\n",
    "print(\"Hours=\",h)"
   ]
  },
  {
   "cell_type": "markdown",
   "id": "5f279ec1-b350-4fea-87c1-b7ebf3562bcc",
   "metadata": {},
   "source": [
    "## Author:\n",
    "Shahad Abdulmoen Alzaidi"
   ]
  },
  {
   "cell_type": "code",
   "execution_count": null,
   "id": "f4b5c8ec-04d9-495f-b188-ffd4ebd2c611",
   "metadata": {},
   "outputs": [],
   "source": []
  }
 ],
 "metadata": {
  "kernelspec": {
   "display_name": "Python 3 (ipykernel)",
   "language": "python",
   "name": "python3"
  },
  "language_info": {
   "codemirror_mode": {
    "name": "ipython",
    "version": 3
   },
   "file_extension": ".py",
   "mimetype": "text/x-python",
   "name": "python",
   "nbconvert_exporter": "python",
   "pygments_lexer": "ipython3",
   "version": "3.11.5"
  }
 },
 "nbformat": 4,
 "nbformat_minor": 5
}
